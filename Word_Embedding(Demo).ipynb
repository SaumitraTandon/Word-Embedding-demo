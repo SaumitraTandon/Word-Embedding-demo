{
 "cells": [
  {
   "cell_type": "code",
   "execution_count": null,
   "id": "5f8c4f98-94a8-4bf6-bd09-85b44fb8d958",
   "metadata": {},
   "outputs": [],
   "source": [
    "# Slower but always guaranteed to work\n",
    "!wget -nc https://archive.org/download/google-news-vectors-negative-300.bin_202311/GoogleNews-vectors-negative300.bin.gz\n",
    "\n",
    "# You are better off just downloading this from the source\n",
    "# https://drive.google.com/file/d/0B7XkCwpI5KDYNlNUTTlSS21pQmM/edit?usp=sharing\n",
    "# https://code.google.com/archive/p/word2vec/"
   ]
  },
  {
   "cell_type": "code",
   "execution_count": null,
   "id": "a98716b4-3e90-4956-8caf-f16192652fe4",
   "metadata": {},
   "outputs": [],
   "source": [
    "# import gdown"
   ]
  },
  {
   "cell_type": "code",
   "execution_count": null,
   "id": "242bfce9-b1fc-4a68-9d52-1d4c8c796341",
   "metadata": {},
   "outputs": [],
   "source": [
    "# !gdown https://drive.google.com/uc?id=0B7XkCwpI5KDYNlNUTTlSS21pQmM"
   ]
  },
  {
   "cell_type": "code",
   "execution_count": null,
   "id": "429b27ae-9add-41c7-a459-697695b3595a",
   "metadata": {},
   "outputs": [],
   "source": [
    "!gunzip GoogleNews-vectors-negative300.bin.gz"
   ]
  },
  {
   "cell_type": "code",
   "execution_count": null,
   "id": "4a36827f-d1fb-4830-93a6-d7e994c8fc5b",
   "metadata": {},
   "outputs": [],
   "source": [
    "from gensim.models import KeyedVectors"
   ]
  },
  {
   "cell_type": "code",
   "execution_count": null,
   "id": "6e1f94d8-7570-47ce-adae-725a1d8755cb",
   "metadata": {},
   "outputs": [],
   "source": [
    "word_vectors = KeyedVectors.load_word2vec_format(\n",
    "  'GoogleNews-vectors-negative300.bin',\n",
    "  binary=True\n",
    ")"
   ]
  },
  {
   "cell_type": "code",
   "execution_count": null,
   "id": "40283442-68bb-4e1f-8e5b-b8529e495117",
   "metadata": {},
   "outputs": [],
   "source": [
    "def find_analogies(w1, w2, w3):\n",
    "  # w1 - w2 = ? - w3\n",
    "  # e.g. king - man = ? - woman\n",
    "  #      ? = +king +woman -man\n",
    "  r = word_vectors.most_similar(positive=[w1, w3], negative=[w2])\n",
    "  print(\"%s - %s = %s - %s\" % (w1, w2, r[0][0], w3)) #r[0][0] -> to get the most confident result"
   ]
  },
  {
   "cell_type": "code",
   "execution_count": null,
   "id": "8f466bb4-abd7-41c1-a230-e311012281d0",
   "metadata": {},
   "outputs": [],
   "source": [
    "find_analogies('king', 'man', 'woman')"
   ]
  },
  {
   "cell_type": "code",
   "execution_count": null,
   "id": "75f41546-bf15-4e39-b40d-f54121a6a6d5",
   "metadata": {},
   "outputs": [],
   "source": [
    "#king - man = queen - woman"
   ]
  },
  {
   "cell_type": "code",
   "execution_count": null,
   "id": "0e5516e1-e678-43d2-be33-72c4a9de83e2",
   "metadata": {},
   "outputs": [],
   "source": [
    "find_analogies('france', 'paris', 'london')"
   ]
  },
  {
   "cell_type": "code",
   "execution_count": null,
   "id": "56ccf334-5cd9-4c98-bd47-f91f1096a436",
   "metadata": {},
   "outputs": [],
   "source": [
    "#france - paris = england - london"
   ]
  },
  {
   "cell_type": "code",
   "execution_count": null,
   "id": "143e8943-5839-4dd2-ba2c-284031c47427",
   "metadata": {},
   "outputs": [],
   "source": [
    "find_analogies('france', 'french', 'english')"
   ]
  },
  {
   "cell_type": "code",
   "execution_count": null,
   "id": "4bbdb232-b118-499c-916d-c9021c78c75e",
   "metadata": {},
   "outputs": [],
   "source": [
    "#france - french = england - english"
   ]
  },
  {
   "cell_type": "code",
   "execution_count": null,
   "id": "6b85d444-eecf-4946-8afe-bc23a3bfb7cb",
   "metadata": {},
   "outputs": [],
   "source": [
    "find_analogies('miami', 'florida', 'texas')"
   ]
  },
  {
   "cell_type": "code",
   "execution_count": null,
   "id": "5ebff805-110b-41ca-8737-27ffb0093a3b",
   "metadata": {},
   "outputs": [],
   "source": [
    "#miami - florida = dallas - texas"
   ]
  },
  {
   "cell_type": "code",
   "execution_count": null,
   "id": "1ad19bc2-1f5c-40d1-962f-a33a4963e717",
   "metadata": {},
   "outputs": [],
   "source": [
    "find_analogies('japan', 'japanese', 'italian')"
   ]
  },
  {
   "cell_type": "code",
   "execution_count": null,
   "id": "785dfe96-30de-4725-8929-321ff0cf9782",
   "metadata": {},
   "outputs": [],
   "source": [
    "#japan - japanese = italy - italian"
   ]
  },
  {
   "cell_type": "code",
   "execution_count": null,
   "id": "784f990e-2b9a-47a4-b49f-4bb67c190b24",
   "metadata": {},
   "outputs": [],
   "source": [
    "find_analogies('nephew', 'niece', 'aunt')"
   ]
  },
  {
   "cell_type": "code",
   "execution_count": null,
   "id": "b5f77f51-4be0-4773-91d2-d592e4f913bc",
   "metadata": {},
   "outputs": [],
   "source": [
    "#nephew - niece = uncle - aunt"
   ]
  },
  {
   "cell_type": "code",
   "execution_count": null,
   "id": "a84676bc-3920-4401-bd9d-febda071ee92",
   "metadata": {},
   "outputs": [],
   "source": [
    "def nearest_neighbors(w):\n",
    "  r = word_vectors.most_similar(positive=[w])\n",
    "  print(\"neighbors of: %s\" % w)\n",
    "  for word, score in r:\n",
    "    print(\"\\t%s\" % word)"
   ]
  },
  {
   "cell_type": "code",
   "execution_count": null,
   "id": "f1bc79bd-1abf-4e5a-ae6c-65f480ae45c5",
   "metadata": {},
   "outputs": [],
   "source": [
    "nearest_neighbors('king')"
   ]
  },
  {
   "cell_type": "code",
   "execution_count": null,
   "id": "ba24c5a4-ae3b-4357-b3c4-f627b982fd57",
   "metadata": {},
   "outputs": [],
   "source": [
    "\"\"\"neighbors of: king\n",
    "\tkings\n",
    "\tqueen\n",
    "\tmonarch\n",
    "\tcrown_prince\n",
    "\tprince\n",
    "\tsultan\n",
    "\truler\n",
    "\tprinces\n",
    "\tPrince_Paras\n",
    "\tthrone \"\"\""
   ]
  },
  {
   "cell_type": "code",
   "execution_count": null,
   "id": "2711d753-29cd-4a1f-bac5-e9da815f9853",
   "metadata": {},
   "outputs": [],
   "source": [
    "nearest_neighbors('france')"
   ]
  },
  {
   "cell_type": "code",
   "execution_count": null,
   "id": "37b09f8c-2796-435f-9872-1a323b5ac30a",
   "metadata": {},
   "outputs": [],
   "source": [
    "\"\"\"neighbors of: france\n",
    "\tspain\n",
    "\tfrench\n",
    "\tgermany\n",
    "\teurope\n",
    "\titaly\n",
    "\tengland\n",
    "\teuropean\n",
    "\tbelgium\n",
    "\tusa\n",
    "\tserbia\"\"\""
   ]
  },
  {
   "cell_type": "code",
   "execution_count": null,
   "id": "a166299e-1713-4759-8b13-9972ae814519",
   "metadata": {},
   "outputs": [],
   "source": [
    "nearest_neighbors('einstein')"
   ]
  },
  {
   "cell_type": "code",
   "execution_count": null,
   "id": "928c3c4d-9ca7-4305-9b7c-2d6cba066d24",
   "metadata": {},
   "outputs": [],
   "source": [
    "\"\"\"neighbors of: einstein\n",
    "\tnikki\n",
    "\tlmfao\n",
    "\talbert\n",
    "\tarmstrong\n",
    "\tjoan\n",
    "\tbecky\n",
    "\tmcmahon\n",
    "\tconrad\n",
    "\tlori\n",
    "\thaley\"\"\""
   ]
  },
  {
   "cell_type": "code",
   "execution_count": null,
   "id": "bb138add-cc03-4665-87a7-eaa4da091ee5",
   "metadata": {},
   "outputs": [],
   "source": [
    "nearest_neighbors('woman')"
   ]
  },
  {
   "cell_type": "code",
   "execution_count": null,
   "id": "86ed603c-d642-44fe-8cd1-b9e1fa0d60e9",
   "metadata": {},
   "outputs": [],
   "source": [
    "\"\"\"neighbors of: woman\n",
    "\tman\n",
    "\tgirl\n",
    "\tteenage_girl\n",
    "\tteenager\n",
    "\tlady\n",
    "\tteenaged_girl\n",
    "\tmother\n",
    "\tpolicewoman\n",
    "\tboy\n",
    "\tWoman\"\"\""
   ]
  },
  {
   "cell_type": "code",
   "execution_count": null,
   "id": "cb3d0831-d2c2-4661-8599-a120e40beed8",
   "metadata": {},
   "outputs": [],
   "source": [
    "nearest_neighbors('nephew')"
   ]
  },
  {
   "cell_type": "code",
   "execution_count": null,
   "id": "1f76c39d-4e38-4fa3-be91-3f1845471d13",
   "metadata": {},
   "outputs": [],
   "source": [
    "\"\"\"neighbors of: nephew\n",
    "\tson\n",
    "\tuncle\n",
    "\tbrother\n",
    "\tgrandson\n",
    "\tcousin\n",
    "\tfather\n",
    "\tniece\n",
    "\tyounger_brother\n",
    "\tnephews\n",
    "\tstepson\"\"\""
   ]
  },
  {
   "cell_type": "code",
   "execution_count": null,
   "id": "93df2846-37e5-44e1-b77c-981184a584c8",
   "metadata": {},
   "outputs": [],
   "source": [
    "nearest_neighbors('february')"
   ]
  },
  {
   "cell_type": "code",
   "execution_count": null,
   "id": "f3e97798-93dc-4191-93ae-3a4cea9c72fa",
   "metadata": {},
   "outputs": [],
   "source": [
    "\"\"\"neighbors of: february\n",
    "\tjanuary\n",
    "\tapril\n",
    "\tseptember\n",
    "\tdecember\n",
    "\tjuly\n",
    "\toctober\n",
    "\tnovember\n",
    "\tjune\n",
    "\tfeb\n",
    "\tnorway\"\"\""
   ]
  },
  {
   "cell_type": "code",
   "execution_count": null,
   "id": "35bbc510-f029-4574-86d8-0381c158ffd9",
   "metadata": {},
   "outputs": [],
   "source": [
    "# Exercise: download pretrained GloVe vectors from\n",
    "# https://nlp.stanford.edu/projects/glove/\n",
    "#\n",
    "# Implement your own find_analogies() and nearest_neighbors()\n",
    "#\n",
    "# Hint: you do NOT have to go hunting around on Stackoverflow\n",
    "#       you do NOT have to copy and paste code from anywhere\n",
    "#       look at the file you downloaded"
   ]
  }
 ],
 "metadata": {
  "kernelspec": {
   "display_name": "Python 3 (ipykernel)",
   "language": "python",
   "name": "python3"
  },
  "language_info": {
   "codemirror_mode": {
    "name": "ipython",
    "version": 3
   },
   "file_extension": ".py",
   "mimetype": "text/x-python",
   "name": "python",
   "nbconvert_exporter": "python",
   "pygments_lexer": "ipython3",
   "version": "3.11.7"
  }
 },
 "nbformat": 4,
 "nbformat_minor": 5
}
